{
 "cells": [
  {
   "cell_type": "markdown",
   "metadata": {},
   "source": [
    "# Using Biopython's PDB Header parser to get missing residues\n",
    "\n",
    "Currently, in a development version of Biopython that I got working [here](https://github.com/fomightez/BernBiopython) and this is to demonstrate that.\n",
    "\n",
    "This eventually should be moved to [structurework cl_demo-binder](https://github.com/fomightez/cl_demo-binder)."
   ]
  },
  {
   "cell_type": "code",
   "execution_count": null,
   "metadata": {},
   "outputs": [],
   "source": [
    "#get stucture\n",
    "!curl -OL https://files.rcsb.org/download/6AGB.pdb.gz\n",
    "!gunzip 6AGB.pdb.gz"
   ]
  },
  {
   "cell_type": "code",
   "execution_count": 4,
   "metadata": {},
   "outputs": [
    {
     "data": {
      "text/plain": [
       "True"
      ]
     },
     "execution_count": 4,
     "metadata": {},
     "output_type": "execute_result"
    }
   ],
   "source": [
    "from Bio.PDB import *\n",
    "h =parse_pdb_header('6AGB.pdb')\n",
    "h['has_missing_residues']"
   ]
  },
  {
   "cell_type": "code",
   "execution_count": null,
   "metadata": {},
   "outputs": [],
   "source": [
    "from Bio.PDB import *\n",
    "h =parse_pdb_header('6AGB.pdb')\n",
    "h['missing_residues']"
   ]
  },
  {
   "cell_type": "code",
   "execution_count": 15,
   "metadata": {},
   "outputs": [
    {
     "name": "stdout",
     "output_type": "stream",
     "text": [
      "{'F': [1], 'G': [1, 2, 3, 4, 5, 6, 7, 8, 9, 10, 11, 12, 108, 109, 110, 111, 112, 113, 114]}\n",
      "\n",
      "Missing from chain 'G':\n",
      "[1, 2, 3, 4, 5, 6, 7, 8, 9, 10, 11, 12, 108, 109, 110, 111, 112, 113, 114]\n"
     ]
    }
   ],
   "source": [
    "# Missing residues for specific chains\n",
    "from Bio.PDB import *\n",
    "h =parse_pdb_header('6AGB.pdb')\n",
    "#parse per chain\n",
    "chains_of_interest = [\"F\",\"G\"]\n",
    "# make a dictionary for each chain of interest with value of a list. The list will be the list of residues later\n",
    "missing_per_chain = {}\n",
    "for chain in chains_of_interest:\n",
    "    missing_per_chain[chain] = []\n",
    "# go through missing residues and populate each chain's list\n",
    "for residue in h['missing_residues']:\n",
    "    if residue[\"chain\"] in chains_of_interest:\n",
    "        missing_per_chain[residue[\"chain\"]].append(residue[\"ssseq\"])\n",
    "print(missing_per_chain)\n",
    "\n",
    "\n",
    "\n",
    "print('')\n",
    "print(\"Missing from chain 'G':\\n{}\".format(missing_per_chain['G']))"
   ]
  },
  {
   "cell_type": "code",
   "execution_count": 1,
   "metadata": {},
   "outputs": [
    {
     "name": "stdout",
     "output_type": "stream",
     "text": [
      "{'A': [], 'B': [1, 2, 3, 4, 5, 6, 7, 8, 9, 10, 11, 12, 13, 14, 15, 16, 17, 18, 19, 20, 21, 22, 23, 24, 25, 26, 27, 28, 29, 30, 31, 32, 33, 34, 35, 36, 37, 38, 39, 40, 41, 42, 43, 44, 45, 46, 47, 48, 49, 50, 51, 52, 53, 125, 126, 127, 128, 129, 130, 131, 132, 133, 134, 135, 136, 137, 138, 525, 526, 527, 528, 529, 686, 687, 688, 689, 690, 691, 692, 693, 694, 695, 743, 744, 745, 746, 747, 748, 749, 750, 751], 'C': [1, 2, 3, 4, 5, 6, 7, 8, 9, 10, 11, 12, 13, 189, 190, 191, 192, 193, 194, 195], 'D': [25, 26, 27, 28, 29, 30, 31, 32, 33, 34, 35, 36, 37, 38, 39, 40, 41, 42, 43, 44, 45, 46, 47, 48, 49, 50, 51, 52, 53, 54, 55, 56, 57, 58, 59, 60, 61, 62, 63, 64, 65, 66, 67, 68, 69, 70, 71, 72, 73, 74, 75, 76], 'E': [1, 148, 149, 150, 151, 152, 153, 154, 155, 156, 157, 158, 159, 160, 161, 162, 163, 164, 165, 166, 167, 168, 169, 170, 171, 172, 173], 'F': [1], 'G': [1, 2, 3, 4, 5, 6, 7, 8, 9, 10, 11, 12, 108, 109, 110, 111, 112, 113, 114], 'H': [1, 2], 'I': [243, 244, 245, 246, 247, 248, 249, 250, 251, 252, 253, 254, 255, 256, 257, 258, 259, 260, 261, 262, 263, 264, 265, 266, 267, 268, 269, 270, 271, 272, 273, 274, 275, 276, 277, 278, 279, 280, 281, 282, 283, 284, 285, 286, 287, 288, 289, 290, 291, 292, 293], 'J': [], 'K': [1, 2, 3, 4, 5, 6, 7, 8, 9, 10, 11, 12, 13, 14, 15, 16]}\n",
      "\n",
      "Missing from chain 'K':\n",
      "[1, 2, 3, 4, 5, 6, 7, 8, 9, 10, 11, 12, 13, 14, 15, 16]\n"
     ]
    }
   ],
   "source": [
    "# Missing residues for ALL chains\n",
    "from Bio.PDB import *\n",
    "# extract information on chains in structure\n",
    "structure = PDBParser().get_structure('6AGB', '6AGB.pdb')\n",
    "chains = [each.id for each in structure.get_chains()]\n",
    "\n",
    "h =parse_pdb_header('6AGB.pdb')\n",
    "\n",
    "# make a dictionary for each chain of interest with value of a list. The list will be the list of residues later\n",
    "missing_per_chain = {}\n",
    "for chain in chains:\n",
    "    missing_per_chain[chain] = []\n",
    "# go through missing residues and populate each chain's list\n",
    "for residue in h['missing_residues']:\n",
    "    if residue[\"chain\"] in chains:\n",
    "        missing_per_chain[residue[\"chain\"]].append(residue[\"ssseq\"])\n",
    "print(missing_per_chain)\n",
    "\n",
    "\n",
    "\n",
    "print('')\n",
    "print(\"Missing from chain 'K':\\n{}\".format(missing_per_chain['K']))"
   ]
  },
  {
   "cell_type": "code",
   "execution_count": null,
   "metadata": {},
   "outputs": [],
   "source": []
  },
  {
   "cell_type": "code",
   "execution_count": null,
   "metadata": {},
   "outputs": [],
   "source": []
  },
  {
   "cell_type": "code",
   "execution_count": null,
   "metadata": {},
   "outputs": [],
   "source": []
  },
  {
   "cell_type": "code",
   "execution_count": null,
   "metadata": {},
   "outputs": [],
   "source": []
  }
 ],
 "metadata": {
  "kernelspec": {
   "display_name": "Python 3",
   "language": "python",
   "name": "python3"
  },
  "language_info": {
   "codemirror_mode": {
    "name": "ipython",
    "version": 3
   },
   "file_extension": ".py",
   "mimetype": "text/x-python",
   "name": "python",
   "nbconvert_exporter": "python",
   "pygments_lexer": "ipython3",
   "version": "3.6.6"
  }
 },
 "nbformat": 4,
 "nbformat_minor": 2
}
